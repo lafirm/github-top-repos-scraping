{
 "cells": [
  {
   "cell_type": "markdown",
   "metadata": {},
   "source": [
    "# Scraping the Topicwise Top Repositories on Github\n",
    "\n",
    "![Github Image](https://hoadm.net/wp-content/uploads/2021/09/Github-1200x630-1-696x365.jpeg)\n",
    "\n",
    "\n",
    "\n",
    "*Author: [Lafir](https://www.linkedin.com/in/lafir)*"
   ]
  },
  {
   "cell_type": "markdown",
   "metadata": {},
   "source": [
    "## About: \n",
    "\n",
    "In this project, top repositories of the github page was scraped using requests and BeautifulSoup."
   ]
  },
  {
   "cell_type": "markdown",
   "metadata": {},
   "source": [
    "### Project Outline:\n",
    "\n",
    "- Scrape this page: https://github.com/topics\n",
    "- Extract and create a dataframe and CSV file for list of topics and each row should contain topic title, topic page URL, and topic description\n",
    "- For each topic, create a dataframe and CSV file for top 25 repositories which should be scarped from the topic page\n",
    "- Each repository record should contain repo name, username, stars, and repo URL and it should be in the below format:\n",
    "\n",
    "```\n",
    "username,repo_name,stars,repo_url\n",
    "mrdoob,three.js,83700,https://github.com/mrdoob/three.js\n",
    "libgdx,libgdx,20200,https://github.com/libgdx/libgdx\n",
    "```\n"
   ]
  },
  {
   "cell_type": "markdown",
   "metadata": {},
   "source": [
    "## Use Requests library to download webpages"
   ]
  },
  {
   "cell_type": "code",
   "execution_count": 1,
   "metadata": {},
   "outputs": [],
   "source": [
    "!pip install requests --upgrade --quiet"
   ]
  },
  {
   "cell_type": "code",
   "execution_count": 2,
   "metadata": {},
   "outputs": [],
   "source": [
    "import requests"
   ]
  },
  {
   "cell_type": "code",
   "execution_count": 3,
   "metadata": {},
   "outputs": [],
   "source": [
    "github_topics_url = 'https://github.com/topics'"
   ]
  },
  {
   "cell_type": "code",
   "execution_count": 4,
   "metadata": {},
   "outputs": [],
   "source": [
    "response = requests.get(github_topics_url)"
   ]
  },
  {
   "cell_type": "code",
   "execution_count": 5,
   "metadata": {},
   "outputs": [
    {
     "data": {
      "text/plain": [
       "200"
      ]
     },
     "execution_count": 5,
     "metadata": {},
     "output_type": "execute_result"
    }
   ],
   "source": [
    "response.status_code"
   ]
  },
  {
   "cell_type": "code",
   "execution_count": 6,
   "metadata": {},
   "outputs": [],
   "source": [
    "page_contents = response.text"
   ]
  },
  {
   "cell_type": "markdown",
   "metadata": {},
   "source": [
    "## Use Beautiful Soup to parse and extract information"
   ]
  },
  {
   "cell_type": "code",
   "execution_count": 7,
   "metadata": {},
   "outputs": [],
   "source": [
    "!pip install beautifulsoup4 --upgrade --quiet"
   ]
  },
  {
   "cell_type": "code",
   "execution_count": 8,
   "metadata": {},
   "outputs": [],
   "source": [
    "from bs4 import BeautifulSoup"
   ]
  },
  {
   "cell_type": "code",
   "execution_count": 9,
   "metadata": {},
   "outputs": [],
   "source": [
    "doc = BeautifulSoup(page_contents, 'html.parser')"
   ]
  },
  {
   "cell_type": "code",
   "execution_count": 10,
   "metadata": {},
   "outputs": [
    {
     "data": {
      "text/plain": [
       "bs4.BeautifulSoup"
      ]
     },
     "execution_count": 10,
     "metadata": {},
     "output_type": "execute_result"
    }
   ],
   "source": [
    "type(doc)"
   ]
  },
  {
   "cell_type": "code",
   "execution_count": 11,
   "metadata": {},
   "outputs": [],
   "source": [
    "topic_title_class = 'f3 lh-condensed mb-0 mt-1 Link--primary'\n",
    "\n",
    "topic_title_tags = doc.find_all('p', {'class': topic_title_class})"
   ]
  },
  {
   "cell_type": "code",
   "execution_count": 12,
   "metadata": {},
   "outputs": [
    {
     "data": {
      "text/plain": [
       "30"
      ]
     },
     "execution_count": 12,
     "metadata": {},
     "output_type": "execute_result"
    }
   ],
   "source": [
    "len(topic_title_tags)"
   ]
  },
  {
   "cell_type": "code",
   "execution_count": 13,
   "metadata": {
    "scrolled": false
   },
   "outputs": [
    {
     "data": {
      "text/plain": [
       "[<p class=\"f3 lh-condensed mb-0 mt-1 Link--primary\">3D</p>,\n",
       " <p class=\"f3 lh-condensed mb-0 mt-1 Link--primary\">Ajax</p>,\n",
       " <p class=\"f3 lh-condensed mb-0 mt-1 Link--primary\">Algorithm</p>,\n",
       " <p class=\"f3 lh-condensed mb-0 mt-1 Link--primary\">Amp</p>,\n",
       " <p class=\"f3 lh-condensed mb-0 mt-1 Link--primary\">Android</p>]"
      ]
     },
     "execution_count": 13,
     "metadata": {},
     "output_type": "execute_result"
    }
   ],
   "source": [
    "topic_title_tags[:5]"
   ]
  },
  {
   "cell_type": "code",
   "execution_count": 14,
   "metadata": {},
   "outputs": [],
   "source": [
    "topic_desc_class = 'f5 color-fg-muted mb-0 mt-1'\n",
    "\n",
    "topic_desc_tags = doc.find_all('p', {'class': topic_desc_class})"
   ]
  },
  {
   "cell_type": "code",
   "execution_count": 15,
   "metadata": {},
   "outputs": [
    {
     "data": {
      "text/plain": [
       "30"
      ]
     },
     "execution_count": 15,
     "metadata": {},
     "output_type": "execute_result"
    }
   ],
   "source": [
    "len(topic_desc_tags)"
   ]
  },
  {
   "cell_type": "code",
   "execution_count": 16,
   "metadata": {
    "scrolled": true
   },
   "outputs": [
    {
     "data": {
      "text/plain": [
       "[<p class=\"f5 color-fg-muted mb-0 mt-1\">\n",
       "           3D modeling is the process of virtually developing the surface and structure of a 3D object.\n",
       "         </p>,\n",
       " <p class=\"f5 color-fg-muted mb-0 mt-1\">\n",
       "           Ajax is a technique for creating interactive web applications.\n",
       "         </p>,\n",
       " <p class=\"f5 color-fg-muted mb-0 mt-1\">\n",
       "           Algorithms are self-contained sequences that carry out a variety of tasks.\n",
       "         </p>,\n",
       " <p class=\"f5 color-fg-muted mb-0 mt-1\">\n",
       "           Amp is a non-blocking concurrency library for PHP.\n",
       "         </p>,\n",
       " <p class=\"f5 color-fg-muted mb-0 mt-1\">\n",
       "           Android is an operating system built by Google designed for mobile devices.\n",
       "         </p>]"
      ]
     },
     "execution_count": 16,
     "metadata": {},
     "output_type": "execute_result"
    }
   ],
   "source": [
    "topic_desc_tags[:5]"
   ]
  },
  {
   "cell_type": "code",
   "execution_count": 17,
   "metadata": {},
   "outputs": [],
   "source": [
    "topic_url_class = 'no-underline flex-1 d-flex flex-column'\n",
    "\n",
    "topic_url_tags = doc.find_all('a', {'class': topic_url_class})"
   ]
  },
  {
   "cell_type": "code",
   "execution_count": 18,
   "metadata": {},
   "outputs": [
    {
     "data": {
      "text/plain": [
       "30"
      ]
     },
     "execution_count": 18,
     "metadata": {},
     "output_type": "execute_result"
    }
   ],
   "source": [
    "len(topic_url_tags)"
   ]
  },
  {
   "cell_type": "code",
   "execution_count": 19,
   "metadata": {},
   "outputs": [
    {
     "name": "stdout",
     "output_type": "stream",
     "text": [
      "https://github.com/topics/3d\n"
     ]
    }
   ],
   "source": [
    "topic0_url = \"https://github.com\"+topic_url_tags[0]['href']\n",
    "print(topic0_url)"
   ]
  },
  {
   "cell_type": "markdown",
   "metadata": {},
   "source": [
    "### Create a list of topic titles"
   ]
  },
  {
   "cell_type": "code",
   "execution_count": 20,
   "metadata": {
    "scrolled": true
   },
   "outputs": [
    {
     "name": "stdout",
     "output_type": "stream",
     "text": [
      "['3D', 'Ajax', 'Algorithm', 'Amp', 'Android', 'Angular', 'Ansible', 'API', 'Arduino', 'ASP.NET', 'Atom', 'Awesome Lists', 'Amazon Web Services', 'Azure', 'Babel', 'Bash', 'Bitcoin', 'Bootstrap', 'Bot', 'C', 'Chrome', 'Chrome extension', 'Command line interface', 'Clojure', 'Code quality', 'Code review', 'Compiler', 'Continuous integration', 'COVID-19', 'C++']\n"
     ]
    }
   ],
   "source": [
    "topic_titles = []\n",
    "\n",
    "for tag in topic_title_tags:\n",
    "    topic_titles.append(tag.text)\n",
    "    \n",
    "print(topic_titles)"
   ]
  },
  {
   "cell_type": "markdown",
   "metadata": {},
   "source": [
    "### Create a list of topic descriptions"
   ]
  },
  {
   "cell_type": "code",
   "execution_count": 21,
   "metadata": {
    "scrolled": true
   },
   "outputs": [
    {
     "name": "stdout",
     "output_type": "stream",
     "text": [
      "['3D modeling is the process of virtually developing the surface and structure of a 3D object.', 'Ajax is a technique for creating interactive web applications.', 'Algorithms are self-contained sequences that carry out a variety of tasks.', 'Amp is a non-blocking concurrency library for PHP.']\n"
     ]
    }
   ],
   "source": [
    "topic_descs = []\n",
    "\n",
    "for tag in topic_desc_tags:\n",
    "    topic_descs.append(tag.text.strip())\n",
    "    \n",
    "print(topic_descs[:4])"
   ]
  },
  {
   "cell_type": "markdown",
   "metadata": {},
   "source": [
    "### Create a list of topic URLs"
   ]
  },
  {
   "cell_type": "code",
   "execution_count": 22,
   "metadata": {
    "scrolled": true
   },
   "outputs": [
    {
     "name": "stdout",
     "output_type": "stream",
     "text": [
      "['https://github.com/topics/3d', 'https://github.com/topics/ajax', 'https://github.com/topics/algorithm', 'https://github.com/topics/amphp']\n"
     ]
    }
   ],
   "source": [
    "topic_urls = []\n",
    "\n",
    "base_url = \"https://github.com\"\n",
    "\n",
    "for tag in topic_url_tags:\n",
    "    topic_urls.append(base_url + tag['href'])\n",
    "    \n",
    "print(topic_urls[:4])"
   ]
  },
  {
   "cell_type": "code",
   "execution_count": 23,
   "metadata": {},
   "outputs": [],
   "source": [
    "# its  easy to convert a df into CSV file"
   ]
  },
  {
   "cell_type": "code",
   "execution_count": 24,
   "metadata": {},
   "outputs": [],
   "source": [
    "!pip install pandas --quiet"
   ]
  },
  {
   "cell_type": "code",
   "execution_count": 25,
   "metadata": {},
   "outputs": [],
   "source": [
    "import pandas as pd"
   ]
  },
  {
   "cell_type": "code",
   "execution_count": 26,
   "metadata": {},
   "outputs": [],
   "source": [
    "#its easy to convert a dictionary of lists into dataframe\n",
    "\n",
    "dict = {'title': topic_titles,\n",
    "        'description': topic_descs,\n",
    "        'url': topic_urls    \n",
    "}"
   ]
  },
  {
   "cell_type": "code",
   "execution_count": 27,
   "metadata": {},
   "outputs": [],
   "source": [
    "topics_df = pd.DataFrame(dict)"
   ]
  },
  {
   "cell_type": "code",
   "execution_count": 28,
   "metadata": {},
   "outputs": [
    {
     "data": {
      "text/html": [
       "<div>\n",
       "<style scoped>\n",
       "    .dataframe tbody tr th:only-of-type {\n",
       "        vertical-align: middle;\n",
       "    }\n",
       "\n",
       "    .dataframe tbody tr th {\n",
       "        vertical-align: top;\n",
       "    }\n",
       "\n",
       "    .dataframe thead th {\n",
       "        text-align: right;\n",
       "    }\n",
       "</style>\n",
       "<table border=\"1\" class=\"dataframe\">\n",
       "  <thead>\n",
       "    <tr style=\"text-align: right;\">\n",
       "      <th></th>\n",
       "      <th>title</th>\n",
       "      <th>description</th>\n",
       "      <th>url</th>\n",
       "    </tr>\n",
       "  </thead>\n",
       "  <tbody>\n",
       "    <tr>\n",
       "      <th>0</th>\n",
       "      <td>3D</td>\n",
       "      <td>3D modeling is the process of virtually develo...</td>\n",
       "      <td>https://github.com/topics/3d</td>\n",
       "    </tr>\n",
       "    <tr>\n",
       "      <th>1</th>\n",
       "      <td>Ajax</td>\n",
       "      <td>Ajax is a technique for creating interactive w...</td>\n",
       "      <td>https://github.com/topics/ajax</td>\n",
       "    </tr>\n",
       "    <tr>\n",
       "      <th>2</th>\n",
       "      <td>Algorithm</td>\n",
       "      <td>Algorithms are self-contained sequences that c...</td>\n",
       "      <td>https://github.com/topics/algorithm</td>\n",
       "    </tr>\n",
       "    <tr>\n",
       "      <th>3</th>\n",
       "      <td>Amp</td>\n",
       "      <td>Amp is a non-blocking concurrency library for ...</td>\n",
       "      <td>https://github.com/topics/amphp</td>\n",
       "    </tr>\n",
       "    <tr>\n",
       "      <th>4</th>\n",
       "      <td>Android</td>\n",
       "      <td>Android is an operating system built by Google...</td>\n",
       "      <td>https://github.com/topics/android</td>\n",
       "    </tr>\n",
       "    <tr>\n",
       "      <th>5</th>\n",
       "      <td>Angular</td>\n",
       "      <td>Angular is an open source web application plat...</td>\n",
       "      <td>https://github.com/topics/angular</td>\n",
       "    </tr>\n",
       "    <tr>\n",
       "      <th>6</th>\n",
       "      <td>Ansible</td>\n",
       "      <td>Ansible is a simple and powerful automation en...</td>\n",
       "      <td>https://github.com/topics/ansible</td>\n",
       "    </tr>\n",
       "    <tr>\n",
       "      <th>7</th>\n",
       "      <td>API</td>\n",
       "      <td>An API (Application Programming Interface) is ...</td>\n",
       "      <td>https://github.com/topics/api</td>\n",
       "    </tr>\n",
       "    <tr>\n",
       "      <th>8</th>\n",
       "      <td>Arduino</td>\n",
       "      <td>Arduino is an open source hardware and softwar...</td>\n",
       "      <td>https://github.com/topics/arduino</td>\n",
       "    </tr>\n",
       "    <tr>\n",
       "      <th>9</th>\n",
       "      <td>ASP.NET</td>\n",
       "      <td>ASP.NET is a web framework for building modern...</td>\n",
       "      <td>https://github.com/topics/aspnet</td>\n",
       "    </tr>\n",
       "    <tr>\n",
       "      <th>10</th>\n",
       "      <td>Atom</td>\n",
       "      <td>Atom is a open source text editor built with w...</td>\n",
       "      <td>https://github.com/topics/atom</td>\n",
       "    </tr>\n",
       "    <tr>\n",
       "      <th>11</th>\n",
       "      <td>Awesome Lists</td>\n",
       "      <td>An awesome list is a list of awesome things cu...</td>\n",
       "      <td>https://github.com/topics/awesome</td>\n",
       "    </tr>\n",
       "    <tr>\n",
       "      <th>12</th>\n",
       "      <td>Amazon Web Services</td>\n",
       "      <td>Amazon Web Services provides on-demand cloud c...</td>\n",
       "      <td>https://github.com/topics/aws</td>\n",
       "    </tr>\n",
       "    <tr>\n",
       "      <th>13</th>\n",
       "      <td>Azure</td>\n",
       "      <td>Azure is a cloud computing service created by ...</td>\n",
       "      <td>https://github.com/topics/azure</td>\n",
       "    </tr>\n",
       "    <tr>\n",
       "      <th>14</th>\n",
       "      <td>Babel</td>\n",
       "      <td>Babel is a compiler for writing next generatio...</td>\n",
       "      <td>https://github.com/topics/babel</td>\n",
       "    </tr>\n",
       "    <tr>\n",
       "      <th>15</th>\n",
       "      <td>Bash</td>\n",
       "      <td>Bash is a shell and command language interpret...</td>\n",
       "      <td>https://github.com/topics/bash</td>\n",
       "    </tr>\n",
       "    <tr>\n",
       "      <th>16</th>\n",
       "      <td>Bitcoin</td>\n",
       "      <td>Bitcoin is a cryptocurrency developed by Satos...</td>\n",
       "      <td>https://github.com/topics/bitcoin</td>\n",
       "    </tr>\n",
       "    <tr>\n",
       "      <th>17</th>\n",
       "      <td>Bootstrap</td>\n",
       "      <td>Bootstrap is an HTML, CSS, and JavaScript fram...</td>\n",
       "      <td>https://github.com/topics/bootstrap</td>\n",
       "    </tr>\n",
       "    <tr>\n",
       "      <th>18</th>\n",
       "      <td>Bot</td>\n",
       "      <td>A bot is an application that runs automated ta...</td>\n",
       "      <td>https://github.com/topics/bot</td>\n",
       "    </tr>\n",
       "    <tr>\n",
       "      <th>19</th>\n",
       "      <td>C</td>\n",
       "      <td>C is a general purpose programming language th...</td>\n",
       "      <td>https://github.com/topics/c</td>\n",
       "    </tr>\n",
       "    <tr>\n",
       "      <th>20</th>\n",
       "      <td>Chrome</td>\n",
       "      <td>Chrome is a web browser from the tech company ...</td>\n",
       "      <td>https://github.com/topics/chrome</td>\n",
       "    </tr>\n",
       "    <tr>\n",
       "      <th>21</th>\n",
       "      <td>Chrome extension</td>\n",
       "      <td>Chrome extensions enable users to customize th...</td>\n",
       "      <td>https://github.com/topics/chrome-extension</td>\n",
       "    </tr>\n",
       "    <tr>\n",
       "      <th>22</th>\n",
       "      <td>Command line interface</td>\n",
       "      <td>A CLI, or command-line interface, is a console...</td>\n",
       "      <td>https://github.com/topics/cli</td>\n",
       "    </tr>\n",
       "    <tr>\n",
       "      <th>23</th>\n",
       "      <td>Clojure</td>\n",
       "      <td>Clojure is a dynamic, general-purpose programm...</td>\n",
       "      <td>https://github.com/topics/clojure</td>\n",
       "    </tr>\n",
       "    <tr>\n",
       "      <th>24</th>\n",
       "      <td>Code quality</td>\n",
       "      <td>Automate your code review with style, quality,...</td>\n",
       "      <td>https://github.com/topics/code-quality</td>\n",
       "    </tr>\n",
       "    <tr>\n",
       "      <th>25</th>\n",
       "      <td>Code review</td>\n",
       "      <td>Ensure your code meets quality standards and s...</td>\n",
       "      <td>https://github.com/topics/code-review</td>\n",
       "    </tr>\n",
       "    <tr>\n",
       "      <th>26</th>\n",
       "      <td>Compiler</td>\n",
       "      <td>Compilers are software that translate higher-l...</td>\n",
       "      <td>https://github.com/topics/compiler</td>\n",
       "    </tr>\n",
       "    <tr>\n",
       "      <th>27</th>\n",
       "      <td>Continuous integration</td>\n",
       "      <td>Automatically build and test your code as you ...</td>\n",
       "      <td>https://github.com/topics/continuous-integration</td>\n",
       "    </tr>\n",
       "    <tr>\n",
       "      <th>28</th>\n",
       "      <td>COVID-19</td>\n",
       "      <td>The coronavirus disease 2019 (COVID-19) is an ...</td>\n",
       "      <td>https://github.com/topics/covid-19</td>\n",
       "    </tr>\n",
       "    <tr>\n",
       "      <th>29</th>\n",
       "      <td>C++</td>\n",
       "      <td>C++ is a general purpose and object-oriented p...</td>\n",
       "      <td>https://github.com/topics/cpp</td>\n",
       "    </tr>\n",
       "  </tbody>\n",
       "</table>\n",
       "</div>"
      ],
      "text/plain": [
       "                     title                                        description  \\\n",
       "0                       3D  3D modeling is the process of virtually develo...   \n",
       "1                     Ajax  Ajax is a technique for creating interactive w...   \n",
       "2                Algorithm  Algorithms are self-contained sequences that c...   \n",
       "3                      Amp  Amp is a non-blocking concurrency library for ...   \n",
       "4                  Android  Android is an operating system built by Google...   \n",
       "5                  Angular  Angular is an open source web application plat...   \n",
       "6                  Ansible  Ansible is a simple and powerful automation en...   \n",
       "7                      API  An API (Application Programming Interface) is ...   \n",
       "8                  Arduino  Arduino is an open source hardware and softwar...   \n",
       "9                  ASP.NET  ASP.NET is a web framework for building modern...   \n",
       "10                    Atom  Atom is a open source text editor built with w...   \n",
       "11           Awesome Lists  An awesome list is a list of awesome things cu...   \n",
       "12     Amazon Web Services  Amazon Web Services provides on-demand cloud c...   \n",
       "13                   Azure  Azure is a cloud computing service created by ...   \n",
       "14                   Babel  Babel is a compiler for writing next generatio...   \n",
       "15                    Bash  Bash is a shell and command language interpret...   \n",
       "16                 Bitcoin  Bitcoin is a cryptocurrency developed by Satos...   \n",
       "17               Bootstrap  Bootstrap is an HTML, CSS, and JavaScript fram...   \n",
       "18                     Bot  A bot is an application that runs automated ta...   \n",
       "19                       C  C is a general purpose programming language th...   \n",
       "20                  Chrome  Chrome is a web browser from the tech company ...   \n",
       "21        Chrome extension  Chrome extensions enable users to customize th...   \n",
       "22  Command line interface  A CLI, or command-line interface, is a console...   \n",
       "23                 Clojure  Clojure is a dynamic, general-purpose programm...   \n",
       "24            Code quality  Automate your code review with style, quality,...   \n",
       "25             Code review  Ensure your code meets quality standards and s...   \n",
       "26                Compiler  Compilers are software that translate higher-l...   \n",
       "27  Continuous integration  Automatically build and test your code as you ...   \n",
       "28                COVID-19  The coronavirus disease 2019 (COVID-19) is an ...   \n",
       "29                     C++  C++ is a general purpose and object-oriented p...   \n",
       "\n",
       "                                                 url  \n",
       "0                       https://github.com/topics/3d  \n",
       "1                     https://github.com/topics/ajax  \n",
       "2                https://github.com/topics/algorithm  \n",
       "3                    https://github.com/topics/amphp  \n",
       "4                  https://github.com/topics/android  \n",
       "5                  https://github.com/topics/angular  \n",
       "6                  https://github.com/topics/ansible  \n",
       "7                      https://github.com/topics/api  \n",
       "8                  https://github.com/topics/arduino  \n",
       "9                   https://github.com/topics/aspnet  \n",
       "10                    https://github.com/topics/atom  \n",
       "11                 https://github.com/topics/awesome  \n",
       "12                     https://github.com/topics/aws  \n",
       "13                   https://github.com/topics/azure  \n",
       "14                   https://github.com/topics/babel  \n",
       "15                    https://github.com/topics/bash  \n",
       "16                 https://github.com/topics/bitcoin  \n",
       "17               https://github.com/topics/bootstrap  \n",
       "18                     https://github.com/topics/bot  \n",
       "19                       https://github.com/topics/c  \n",
       "20                  https://github.com/topics/chrome  \n",
       "21        https://github.com/topics/chrome-extension  \n",
       "22                     https://github.com/topics/cli  \n",
       "23                 https://github.com/topics/clojure  \n",
       "24            https://github.com/topics/code-quality  \n",
       "25             https://github.com/topics/code-review  \n",
       "26                https://github.com/topics/compiler  \n",
       "27  https://github.com/topics/continuous-integration  \n",
       "28                https://github.com/topics/covid-19  \n",
       "29                     https://github.com/topics/cpp  "
      ]
     },
     "execution_count": 28,
     "metadata": {},
     "output_type": "execute_result"
    }
   ],
   "source": [
    "topics_df"
   ]
  },
  {
   "cell_type": "markdown",
   "metadata": {},
   "source": [
    "# Create a CSV file with the extracted information"
   ]
  },
  {
   "cell_type": "code",
   "execution_count": 29,
   "metadata": {},
   "outputs": [],
   "source": [
    "topics_df.to_csv('topics.csv', index=None)"
   ]
  },
  {
   "cell_type": "code",
   "execution_count": null,
   "metadata": {},
   "outputs": [],
   "source": []
  },
  {
   "cell_type": "markdown",
   "metadata": {},
   "source": [
    "# Getting Information out of a Topic page"
   ]
  },
  {
   "cell_type": "code",
   "execution_count": 30,
   "metadata": {},
   "outputs": [
    {
     "data": {
      "text/plain": [
       "'https://github.com/topics/3d'"
      ]
     },
     "execution_count": 30,
     "metadata": {},
     "output_type": "execute_result"
    }
   ],
   "source": [
    "topic_page_url = topic_urls[0]\n",
    "\n",
    "topic_page_url"
   ]
  },
  {
   "cell_type": "code",
   "execution_count": 31,
   "metadata": {},
   "outputs": [],
   "source": [
    "response = requests.get(topic_page_url)"
   ]
  },
  {
   "cell_type": "code",
   "execution_count": 32,
   "metadata": {},
   "outputs": [
    {
     "data": {
      "text/plain": [
       "200"
      ]
     },
     "execution_count": 32,
     "metadata": {},
     "output_type": "execute_result"
    }
   ],
   "source": [
    "response.status_code"
   ]
  },
  {
   "cell_type": "code",
   "execution_count": 33,
   "metadata": {},
   "outputs": [
    {
     "data": {
      "text/plain": [
       "647977"
      ]
     },
     "execution_count": 33,
     "metadata": {},
     "output_type": "execute_result"
    }
   ],
   "source": [
    "len(response.text)"
   ]
  },
  {
   "cell_type": "code",
   "execution_count": 34,
   "metadata": {},
   "outputs": [],
   "source": [
    "topic_doc = BeautifulSoup(response.text, 'html.parser')"
   ]
  },
  {
   "cell_type": "code",
   "execution_count": 35,
   "metadata": {},
   "outputs": [],
   "source": [
    "h3_class = 'f3 color-fg-muted text-normal lh-condensed'\n",
    "\n",
    "repo_tags = topic_doc.find_all('h3', {'class': h3_class})"
   ]
  },
  {
   "cell_type": "code",
   "execution_count": 36,
   "metadata": {},
   "outputs": [
    {
     "data": {
      "text/plain": [
       "30"
      ]
     },
     "execution_count": 36,
     "metadata": {},
     "output_type": "execute_result"
    }
   ],
   "source": [
    "len(repo_tags)"
   ]
  },
  {
   "cell_type": "code",
   "execution_count": 37,
   "metadata": {},
   "outputs": [
    {
     "data": {
      "text/plain": [
       "[<a data-ga-click=\"Explore, go to repository owner, location:explore feed\" data-hydro-click='{\"event_type\":\"explore.click\",\"payload\":{\"click_context\":\"REPOSITORY_CARD\",\"click_target\":\"OWNER\",\"click_visual_representation\":\"REPOSITORY_OWNER_HEADING\",\"actor_id\":null,\"record_id\":97088,\"originating_url\":\"https://github.com/topics/3d\",\"user_id\":null}}' data-hydro-click-hmac=\"4bdbc49d3c05ae7f70b531fbce709a384200b0768554e0172950286a8db30940\" data-turbo=\"false\" data-view-component=\"true\" href=\"/mrdoob\">\n",
       "             mrdoob\n",
       " </a>,\n",
       " <a class=\"text-bold wb-break-word\" data-ga-click=\"Explore, go to repository, location:explore feed\" data-hydro-click='{\"event_type\":\"explore.click\",\"payload\":{\"click_context\":\"REPOSITORY_CARD\",\"click_target\":\"REPOSITORY\",\"click_visual_representation\":\"REPOSITORY_NAME_HEADING\",\"actor_id\":null,\"record_id\":576201,\"originating_url\":\"https://github.com/topics/3d\",\"user_id\":null}}' data-hydro-click-hmac=\"517d3d5cb9d89752156923904a4238816bc9b51ab7772f3e3644ce897d8dd4e5\" data-turbo=\"false\" data-view-component=\"true\" href=\"/mrdoob/three.js\">\n",
       "             three.js\n",
       " </a>]"
      ]
     },
     "execution_count": 37,
     "metadata": {},
     "output_type": "execute_result"
    }
   ],
   "source": [
    "a_tags = repo_tags[0].find_all('a')\n",
    "a_tags"
   ]
  },
  {
   "cell_type": "code",
   "execution_count": 38,
   "metadata": {},
   "outputs": [
    {
     "data": {
      "text/plain": [
       "'mrdoob'"
      ]
     },
     "execution_count": 38,
     "metadata": {},
     "output_type": "execute_result"
    }
   ],
   "source": [
    "a_tags[0].text.strip()"
   ]
  },
  {
   "cell_type": "code",
   "execution_count": 39,
   "metadata": {},
   "outputs": [
    {
     "data": {
      "text/plain": [
       "'three.js'"
      ]
     },
     "execution_count": 39,
     "metadata": {},
     "output_type": "execute_result"
    }
   ],
   "source": [
    "a_tags[1].text.strip()"
   ]
  },
  {
   "cell_type": "code",
   "execution_count": 40,
   "metadata": {},
   "outputs": [
    {
     "data": {
      "text/plain": [
       "'/mrdoob/three.js'"
      ]
     },
     "execution_count": 40,
     "metadata": {},
     "output_type": "execute_result"
    }
   ],
   "source": [
    "a_tags[1]['href']"
   ]
  },
  {
   "cell_type": "code",
   "execution_count": 41,
   "metadata": {},
   "outputs": [],
   "source": [
    "repo_url = base_url + a_tags[1]['href']"
   ]
  },
  {
   "cell_type": "code",
   "execution_count": 42,
   "metadata": {},
   "outputs": [],
   "source": [
    "span_id = 'repo-stars-counter-star'\n",
    "\n",
    "\n",
    "star_tags = topic_doc.find_all('span', {'id': span_id})"
   ]
  },
  {
   "cell_type": "code",
   "execution_count": 43,
   "metadata": {},
   "outputs": [
    {
     "data": {
      "text/plain": [
       "30"
      ]
     },
     "execution_count": 43,
     "metadata": {},
     "output_type": "execute_result"
    }
   ],
   "source": [
    "len(star_tags)"
   ]
  },
  {
   "cell_type": "code",
   "execution_count": 44,
   "metadata": {},
   "outputs": [
    {
     "data": {
      "text/plain": [
       "'83.7k'"
      ]
     },
     "execution_count": 44,
     "metadata": {},
     "output_type": "execute_result"
    }
   ],
   "source": [
    "star_tags[0].text.strip()"
   ]
  },
  {
   "cell_type": "code",
   "execution_count": 45,
   "metadata": {},
   "outputs": [],
   "source": [
    "def parse_star_count(stars_str):\n",
    "    stars_str = stars_str.strip()\n",
    "    if stars_str[-1] == 'k':\n",
    "        return int(float(stars_str[:-1])*1000)\n",
    "    return int(stars_str)"
   ]
  },
  {
   "cell_type": "code",
   "execution_count": 46,
   "metadata": {},
   "outputs": [
    {
     "data": {
      "text/plain": [
       "68900"
      ]
     },
     "execution_count": 46,
     "metadata": {},
     "output_type": "execute_result"
    }
   ],
   "source": [
    "parse_star_count('68.9k')"
   ]
  },
  {
   "cell_type": "code",
   "execution_count": null,
   "metadata": {},
   "outputs": [],
   "source": []
  },
  {
   "cell_type": "code",
   "execution_count": 47,
   "metadata": {},
   "outputs": [],
   "source": [
    "def get_repo_info(repo_tag, star_tag):\n",
    "    #returns all the required info about a repository\n",
    "    a_tags = repo_tag.find_all('a')\n",
    "    username = a_tags[0].text.strip()\n",
    "    repo_name = a_tags[1].text.strip()\n",
    "    repo_url = base_url + a_tags[1]['href']\n",
    "    stars = parse_star_count(star_tag.text.strip())\n",
    "    return username, repo_name, stars, repo_url"
   ]
  },
  {
   "cell_type": "code",
   "execution_count": 48,
   "metadata": {},
   "outputs": [
    {
     "data": {
      "text/plain": [
       "('mrdoob', 'three.js', 83700, 'https://github.com/mrdoob/three.js')"
      ]
     },
     "execution_count": 48,
     "metadata": {},
     "output_type": "execute_result"
    }
   ],
   "source": [
    "get_repo_info(repo_tags[0], star_tags[0])"
   ]
  },
  {
   "cell_type": "markdown",
   "metadata": {},
   "source": [
    "## Final Code"
   ]
  },
  {
   "cell_type": "code",
   "execution_count": 76,
   "metadata": {},
   "outputs": [],
   "source": [
    "import os\n",
    "\n",
    "def get_topic_page(topic_url):\n",
    "    # download the page\n",
    "    response = requests.get(topic_url)\n",
    "    #check successful response\n",
    "    if response.status_code != 200:\n",
    "        raise Exception('Failed to load page{}'.format(topic_url))\n",
    "    #parse using beautiful soup\n",
    "    topic_doc = BeautifulSoup(response.text, 'html.parser')\n",
    "    return topic_doc\n",
    "\n",
    "def get_repo_info(repo_tag, star_tag):\n",
    "    #returns all the required info about a repository\n",
    "    a_tags = repo_tag.find_all('a')\n",
    "    username = a_tags[0].text.strip()\n",
    "    repo_name = a_tags[1].text.strip()\n",
    "    repo_url = base_url + a_tags[1]['href']\n",
    "    stars = parse_star_count(star_tag.text.strip())\n",
    "    return username, repo_name, stars, repo_url\n",
    "\n",
    "\n",
    "def get_topic_repos(topic_doc):\n",
    "    #get h3 tags containing reponame, username, repo url\n",
    "    h3_class = 'f3 color-fg-muted text-normal lh-condensed'\n",
    "    repo_tags = topic_doc.find_all('h3', {'class': h3_class})\n",
    "    span_id = 'repo-stars-counter-star'\n",
    "    star_tags = topic_doc.find_all('span', {'id': span_id})\n",
    "    \n",
    "    topic_repos_dict = {\n",
    "        'username': [],\n",
    "        'repo_name': [],\n",
    "        'stars': [],\n",
    "        'repo_url': []\n",
    "    }\n",
    "\n",
    "    for i in range(len(repo_tags)):\n",
    "        repo_info = get_repo_info(repo_tags[i], star_tags[i])\n",
    "        topic_repos_dict['username'].append(repo_info[0])\n",
    "        topic_repos_dict['repo_name'].append(repo_info[1])\n",
    "        topic_repos_dict['stars'].append(repo_info[2])\n",
    "        topic_repos_dict['repo_url'].append(repo_info[3])\n",
    "        \n",
    "    return pd.DataFrame(topic_repos_dict)\n",
    "\n",
    "def scrape_each_topic_page(topic_url, fpath):\n",
    "    if os.path.exists(fpath):\n",
    "        print('The file {} already exists. Skipping...'.format(fpath))\n",
    "        return\n",
    "    topic_df = get_topic_repos(get_topic_page(topic_url))\n",
    "    topic_df.to_csv(fpath, index=None)"
   ]
  },
  {
   "cell_type": "code",
   "execution_count": 50,
   "metadata": {},
   "outputs": [],
   "source": [
    "url4 = topic_urls[4]"
   ]
  },
  {
   "cell_type": "code",
   "execution_count": 51,
   "metadata": {},
   "outputs": [
    {
     "data": {
      "text/plain": [
       "'https://github.com/topics/android'"
      ]
     },
     "execution_count": 51,
     "metadata": {},
     "output_type": "execute_result"
    }
   ],
   "source": [
    "url4"
   ]
  },
  {
   "cell_type": "code",
   "execution_count": 52,
   "metadata": {},
   "outputs": [],
   "source": [
    "topic4_doc = get_topic_page(url4)"
   ]
  },
  {
   "cell_type": "code",
   "execution_count": 53,
   "metadata": {},
   "outputs": [],
   "source": [
    "topic4_repos = get_topic_repos(topic4_doc)"
   ]
  },
  {
   "cell_type": "code",
   "execution_count": 54,
   "metadata": {},
   "outputs": [
    {
     "data": {
      "text/html": [
       "<div>\n",
       "<style scoped>\n",
       "    .dataframe tbody tr th:only-of-type {\n",
       "        vertical-align: middle;\n",
       "    }\n",
       "\n",
       "    .dataframe tbody tr th {\n",
       "        vertical-align: top;\n",
       "    }\n",
       "\n",
       "    .dataframe thead th {\n",
       "        text-align: right;\n",
       "    }\n",
       "</style>\n",
       "<table border=\"1\" class=\"dataframe\">\n",
       "  <thead>\n",
       "    <tr style=\"text-align: right;\">\n",
       "      <th></th>\n",
       "      <th>username</th>\n",
       "      <th>repo_name</th>\n",
       "      <th>stars</th>\n",
       "      <th>repo_url</th>\n",
       "    </tr>\n",
       "  </thead>\n",
       "  <tbody>\n",
       "    <tr>\n",
       "      <th>0</th>\n",
       "      <td>flutter</td>\n",
       "      <td>flutter</td>\n",
       "      <td>143000</td>\n",
       "      <td>https://github.com/flutter/flutter</td>\n",
       "    </tr>\n",
       "    <tr>\n",
       "      <th>1</th>\n",
       "      <td>justjavac</td>\n",
       "      <td>free-programming-books-zh_CN</td>\n",
       "      <td>94400</td>\n",
       "      <td>https://github.com/justjavac/free-programming-...</td>\n",
       "    </tr>\n",
       "    <tr>\n",
       "      <th>2</th>\n",
       "      <td>Genymobile</td>\n",
       "      <td>scrcpy</td>\n",
       "      <td>67900</td>\n",
       "      <td>https://github.com/Genymobile/scrcpy</td>\n",
       "    </tr>\n",
       "    <tr>\n",
       "      <th>3</th>\n",
       "      <td>Hack-with-Github</td>\n",
       "      <td>Awesome-Hacking</td>\n",
       "      <td>53500</td>\n",
       "      <td>https://github.com/Hack-with-Github/Awesome-Ha...</td>\n",
       "    </tr>\n",
       "    <tr>\n",
       "      <th>4</th>\n",
       "      <td>google</td>\n",
       "      <td>material-design-icons</td>\n",
       "      <td>46200</td>\n",
       "      <td>https://github.com/google/material-design-icons</td>\n",
       "    </tr>\n",
       "    <tr>\n",
       "      <th>5</th>\n",
       "      <td>wasabeef</td>\n",
       "      <td>awesome-android-ui</td>\n",
       "      <td>43200</td>\n",
       "      <td>https://github.com/wasabeef/awesome-android-ui</td>\n",
       "    </tr>\n",
       "    <tr>\n",
       "      <th>6</th>\n",
       "      <td>square</td>\n",
       "      <td>okhttp</td>\n",
       "      <td>42500</td>\n",
       "      <td>https://github.com/square/okhttp</td>\n",
       "    </tr>\n",
       "    <tr>\n",
       "      <th>7</th>\n",
       "      <td>Solido</td>\n",
       "      <td>awesome-flutter</td>\n",
       "      <td>41700</td>\n",
       "      <td>https://github.com/Solido/awesome-flutter</td>\n",
       "    </tr>\n",
       "    <tr>\n",
       "      <th>8</th>\n",
       "      <td>android</td>\n",
       "      <td>architecture-samples</td>\n",
       "      <td>41200</td>\n",
       "      <td>https://github.com/android/architecture-samples</td>\n",
       "    </tr>\n",
       "    <tr>\n",
       "      <th>9</th>\n",
       "      <td>square</td>\n",
       "      <td>retrofit</td>\n",
       "      <td>40200</td>\n",
       "      <td>https://github.com/square/retrofit</td>\n",
       "    </tr>\n",
       "    <tr>\n",
       "      <th>10</th>\n",
       "      <td>dcloudio</td>\n",
       "      <td>uni-app</td>\n",
       "      <td>36900</td>\n",
       "      <td>https://github.com/dcloudio/uni-app</td>\n",
       "    </tr>\n",
       "    <tr>\n",
       "      <th>11</th>\n",
       "      <td>fastlane</td>\n",
       "      <td>fastlane</td>\n",
       "      <td>35600</td>\n",
       "      <td>https://github.com/fastlane/fastlane</td>\n",
       "    </tr>\n",
       "    <tr>\n",
       "      <th>12</th>\n",
       "      <td>PhilJay</td>\n",
       "      <td>MPAndroidChart</td>\n",
       "      <td>35300</td>\n",
       "      <td>https://github.com/PhilJay/MPAndroidChart</td>\n",
       "    </tr>\n",
       "    <tr>\n",
       "      <th>13</th>\n",
       "      <td>airbnb</td>\n",
       "      <td>lottie-android</td>\n",
       "      <td>33000</td>\n",
       "      <td>https://github.com/airbnb/lottie-android</td>\n",
       "    </tr>\n",
       "    <tr>\n",
       "      <th>14</th>\n",
       "      <td>bumptech</td>\n",
       "      <td>glide</td>\n",
       "      <td>32800</td>\n",
       "      <td>https://github.com/bumptech/glide</td>\n",
       "    </tr>\n",
       "    <tr>\n",
       "      <th>15</th>\n",
       "      <td>shadowsocks</td>\n",
       "      <td>shadowsocks-android</td>\n",
       "      <td>32700</td>\n",
       "      <td>https://github.com/shadowsocks/shadowsocks-and...</td>\n",
       "    </tr>\n",
       "    <tr>\n",
       "      <th>16</th>\n",
       "      <td>Blankj</td>\n",
       "      <td>AndroidUtilCode</td>\n",
       "      <td>31100</td>\n",
       "      <td>https://github.com/Blankj/AndroidUtilCode</td>\n",
       "    </tr>\n",
       "    <tr>\n",
       "      <th>17</th>\n",
       "      <td>Trinea</td>\n",
       "      <td>android-open-project</td>\n",
       "      <td>31000</td>\n",
       "      <td>https://github.com/Trinea/android-open-project</td>\n",
       "    </tr>\n",
       "    <tr>\n",
       "      <th>18</th>\n",
       "      <td>skylot</td>\n",
       "      <td>jadx</td>\n",
       "      <td>31000</td>\n",
       "      <td>https://github.com/skylot/jadx</td>\n",
       "    </tr>\n",
       "    <tr>\n",
       "      <th>19</th>\n",
       "      <td>xitu</td>\n",
       "      <td>gold-miner</td>\n",
       "      <td>31000</td>\n",
       "      <td>https://github.com/xitu/gold-miner</td>\n",
       "    </tr>\n",
       "    <tr>\n",
       "      <th>20</th>\n",
       "      <td>laurent22</td>\n",
       "      <td>joplin</td>\n",
       "      <td>30800</td>\n",
       "      <td>https://github.com/laurent22/joplin</td>\n",
       "    </tr>\n",
       "    <tr>\n",
       "      <th>21</th>\n",
       "      <td>bilibili</td>\n",
       "      <td>ijkplayer</td>\n",
       "      <td>30600</td>\n",
       "      <td>https://github.com/bilibili/ijkplayer</td>\n",
       "    </tr>\n",
       "    <tr>\n",
       "      <th>22</th>\n",
       "      <td>zxing</td>\n",
       "      <td>zxing</td>\n",
       "      <td>29800</td>\n",
       "      <td>https://github.com/zxing/zxing</td>\n",
       "    </tr>\n",
       "    <tr>\n",
       "      <th>23</th>\n",
       "      <td>codepath</td>\n",
       "      <td>android_guides</td>\n",
       "      <td>27800</td>\n",
       "      <td>https://github.com/codepath/android_guides</td>\n",
       "    </tr>\n",
       "    <tr>\n",
       "      <th>24</th>\n",
       "      <td>square</td>\n",
       "      <td>leakcanary</td>\n",
       "      <td>27700</td>\n",
       "      <td>https://github.com/square/leakcanary</td>\n",
       "    </tr>\n",
       "    <tr>\n",
       "      <th>25</th>\n",
       "      <td>alibaba</td>\n",
       "      <td>fastjson</td>\n",
       "      <td>24800</td>\n",
       "      <td>https://github.com/alibaba/fastjson</td>\n",
       "    </tr>\n",
       "    <tr>\n",
       "      <th>26</th>\n",
       "      <td>appwrite</td>\n",
       "      <td>appwrite</td>\n",
       "      <td>23700</td>\n",
       "      <td>https://github.com/appwrite/appwrite</td>\n",
       "    </tr>\n",
       "    <tr>\n",
       "      <th>27</th>\n",
       "      <td>scwang90</td>\n",
       "      <td>SmartRefreshLayout</td>\n",
       "      <td>23700</td>\n",
       "      <td>https://github.com/scwang90/SmartRefreshLayout</td>\n",
       "    </tr>\n",
       "    <tr>\n",
       "      <th>28</th>\n",
       "      <td>CymChad</td>\n",
       "      <td>BaseRecyclerViewAdapterHelper</td>\n",
       "      <td>23000</td>\n",
       "      <td>https://github.com/CymChad/BaseRecyclerViewAda...</td>\n",
       "    </tr>\n",
       "    <tr>\n",
       "      <th>29</th>\n",
       "      <td>react-native-elements</td>\n",
       "      <td>react-native-elements</td>\n",
       "      <td>22600</td>\n",
       "      <td>https://github.com/react-native-elements/react...</td>\n",
       "    </tr>\n",
       "  </tbody>\n",
       "</table>\n",
       "</div>"
      ],
      "text/plain": [
       "                 username                      repo_name   stars  \\\n",
       "0                 flutter                        flutter  143000   \n",
       "1               justjavac   free-programming-books-zh_CN   94400   \n",
       "2              Genymobile                         scrcpy   67900   \n",
       "3        Hack-with-Github                Awesome-Hacking   53500   \n",
       "4                  google          material-design-icons   46200   \n",
       "5                wasabeef             awesome-android-ui   43200   \n",
       "6                  square                         okhttp   42500   \n",
       "7                  Solido                awesome-flutter   41700   \n",
       "8                 android           architecture-samples   41200   \n",
       "9                  square                       retrofit   40200   \n",
       "10               dcloudio                        uni-app   36900   \n",
       "11               fastlane                       fastlane   35600   \n",
       "12                PhilJay                 MPAndroidChart   35300   \n",
       "13                 airbnb                 lottie-android   33000   \n",
       "14               bumptech                          glide   32800   \n",
       "15            shadowsocks            shadowsocks-android   32700   \n",
       "16                 Blankj                AndroidUtilCode   31100   \n",
       "17                 Trinea           android-open-project   31000   \n",
       "18                 skylot                           jadx   31000   \n",
       "19                   xitu                     gold-miner   31000   \n",
       "20              laurent22                         joplin   30800   \n",
       "21               bilibili                      ijkplayer   30600   \n",
       "22                  zxing                          zxing   29800   \n",
       "23               codepath                 android_guides   27800   \n",
       "24                 square                     leakcanary   27700   \n",
       "25                alibaba                       fastjson   24800   \n",
       "26               appwrite                       appwrite   23700   \n",
       "27               scwang90             SmartRefreshLayout   23700   \n",
       "28                CymChad  BaseRecyclerViewAdapterHelper   23000   \n",
       "29  react-native-elements          react-native-elements   22600   \n",
       "\n",
       "                                             repo_url  \n",
       "0                  https://github.com/flutter/flutter  \n",
       "1   https://github.com/justjavac/free-programming-...  \n",
       "2                https://github.com/Genymobile/scrcpy  \n",
       "3   https://github.com/Hack-with-Github/Awesome-Ha...  \n",
       "4     https://github.com/google/material-design-icons  \n",
       "5      https://github.com/wasabeef/awesome-android-ui  \n",
       "6                    https://github.com/square/okhttp  \n",
       "7           https://github.com/Solido/awesome-flutter  \n",
       "8     https://github.com/android/architecture-samples  \n",
       "9                  https://github.com/square/retrofit  \n",
       "10                https://github.com/dcloudio/uni-app  \n",
       "11               https://github.com/fastlane/fastlane  \n",
       "12          https://github.com/PhilJay/MPAndroidChart  \n",
       "13           https://github.com/airbnb/lottie-android  \n",
       "14                  https://github.com/bumptech/glide  \n",
       "15  https://github.com/shadowsocks/shadowsocks-and...  \n",
       "16          https://github.com/Blankj/AndroidUtilCode  \n",
       "17     https://github.com/Trinea/android-open-project  \n",
       "18                     https://github.com/skylot/jadx  \n",
       "19                 https://github.com/xitu/gold-miner  \n",
       "20                https://github.com/laurent22/joplin  \n",
       "21              https://github.com/bilibili/ijkplayer  \n",
       "22                     https://github.com/zxing/zxing  \n",
       "23         https://github.com/codepath/android_guides  \n",
       "24               https://github.com/square/leakcanary  \n",
       "25                https://github.com/alibaba/fastjson  \n",
       "26               https://github.com/appwrite/appwrite  \n",
       "27     https://github.com/scwang90/SmartRefreshLayout  \n",
       "28  https://github.com/CymChad/BaseRecyclerViewAda...  \n",
       "29  https://github.com/react-native-elements/react...  "
      ]
     },
     "execution_count": 54,
     "metadata": {},
     "output_type": "execute_result"
    }
   ],
   "source": [
    "topic4_repos"
   ]
  },
  {
   "cell_type": "code",
   "execution_count": 75,
   "metadata": {},
   "outputs": [
    {
     "data": {
      "text/html": [
       "<div>\n",
       "<style scoped>\n",
       "    .dataframe tbody tr th:only-of-type {\n",
       "        vertical-align: middle;\n",
       "    }\n",
       "\n",
       "    .dataframe tbody tr th {\n",
       "        vertical-align: top;\n",
       "    }\n",
       "\n",
       "    .dataframe thead th {\n",
       "        text-align: right;\n",
       "    }\n",
       "</style>\n",
       "<table border=\"1\" class=\"dataframe\">\n",
       "  <thead>\n",
       "    <tr style=\"text-align: right;\">\n",
       "      <th></th>\n",
       "      <th>username</th>\n",
       "      <th>repo_name</th>\n",
       "      <th>stars</th>\n",
       "      <th>repo_url</th>\n",
       "    </tr>\n",
       "  </thead>\n",
       "  <tbody>\n",
       "    <tr>\n",
       "      <th>0</th>\n",
       "      <td>ansible</td>\n",
       "      <td>ansible</td>\n",
       "      <td>53900</td>\n",
       "      <td>https://github.com/ansible/ansible</td>\n",
       "    </tr>\n",
       "    <tr>\n",
       "      <th>1</th>\n",
       "      <td>bregman-arie</td>\n",
       "      <td>devops-exercises</td>\n",
       "      <td>27900</td>\n",
       "      <td>https://github.com/bregman-arie/devops-exercises</td>\n",
       "    </tr>\n",
       "    <tr>\n",
       "      <th>2</th>\n",
       "      <td>trailofbits</td>\n",
       "      <td>algo</td>\n",
       "      <td>25800</td>\n",
       "      <td>https://github.com/trailofbits/algo</td>\n",
       "    </tr>\n",
       "    <tr>\n",
       "      <th>3</th>\n",
       "      <td>StreisandEffect</td>\n",
       "      <td>streisand</td>\n",
       "      <td>22800</td>\n",
       "      <td>https://github.com/StreisandEffect/streisand</td>\n",
       "    </tr>\n",
       "    <tr>\n",
       "      <th>4</th>\n",
       "      <td>MichaelCade</td>\n",
       "      <td>90DaysOfDevOps</td>\n",
       "      <td>15600</td>\n",
       "      <td>https://github.com/MichaelCade/90DaysOfDevOps</td>\n",
       "    </tr>\n",
       "    <tr>\n",
       "      <th>5</th>\n",
       "      <td>kubernetes-sigs</td>\n",
       "      <td>kubespray</td>\n",
       "      <td>12600</td>\n",
       "      <td>https://github.com/kubernetes-sigs/kubespray</td>\n",
       "    </tr>\n",
       "    <tr>\n",
       "      <th>6</th>\n",
       "      <td>ansible</td>\n",
       "      <td>awx</td>\n",
       "      <td>11200</td>\n",
       "      <td>https://github.com/ansible/awx</td>\n",
       "    </tr>\n",
       "    <tr>\n",
       "      <th>7</th>\n",
       "      <td>easzlab</td>\n",
       "      <td>kubeasz</td>\n",
       "      <td>8300</td>\n",
       "      <td>https://github.com/easzlab/kubeasz</td>\n",
       "    </tr>\n",
       "    <tr>\n",
       "      <th>8</th>\n",
       "      <td>geerlingguy</td>\n",
       "      <td>ansible-for-devops</td>\n",
       "      <td>6000</td>\n",
       "      <td>https://github.com/geerlingguy/ansible-for-devops</td>\n",
       "    </tr>\n",
       "    <tr>\n",
       "      <th>9</th>\n",
       "      <td>khuedoan</td>\n",
       "      <td>homelab</td>\n",
       "      <td>5900</td>\n",
       "      <td>https://github.com/khuedoan/homelab</td>\n",
       "    </tr>\n",
       "    <tr>\n",
       "      <th>10</th>\n",
       "      <td>curlconverter</td>\n",
       "      <td>curlconverter</td>\n",
       "      <td>5700</td>\n",
       "      <td>https://github.com/curlconverter/curlconverter</td>\n",
       "    </tr>\n",
       "    <tr>\n",
       "      <th>11</th>\n",
       "      <td>ansible-semaphore</td>\n",
       "      <td>semaphore</td>\n",
       "      <td>5100</td>\n",
       "      <td>https://github.com/ansible-semaphore/semaphore</td>\n",
       "    </tr>\n",
       "    <tr>\n",
       "      <th>12</th>\n",
       "      <td>Tikam02</td>\n",
       "      <td>DevOps-Guide</td>\n",
       "      <td>5000</td>\n",
       "      <td>https://github.com/Tikam02/DevOps-Guide</td>\n",
       "    </tr>\n",
       "    <tr>\n",
       "      <th>13</th>\n",
       "      <td>geerlingguy</td>\n",
       "      <td>mac-dev-playbook</td>\n",
       "      <td>4700</td>\n",
       "      <td>https://github.com/geerlingguy/mac-dev-playbook</td>\n",
       "    </tr>\n",
       "    <tr>\n",
       "      <th>14</th>\n",
       "      <td>rundeck</td>\n",
       "      <td>rundeck</td>\n",
       "      <td>4600</td>\n",
       "      <td>https://github.com/rundeck/rundeck</td>\n",
       "    </tr>\n",
       "    <tr>\n",
       "      <th>15</th>\n",
       "      <td>KubeOperator</td>\n",
       "      <td>KubeOperator</td>\n",
       "      <td>4400</td>\n",
       "      <td>https://github.com/KubeOperator/KubeOperator</td>\n",
       "    </tr>\n",
       "    <tr>\n",
       "      <th>16</th>\n",
       "      <td>clong</td>\n",
       "      <td>DetectionLab</td>\n",
       "      <td>3700</td>\n",
       "      <td>https://github.com/clong/DetectionLab</td>\n",
       "    </tr>\n",
       "    <tr>\n",
       "      <th>17</th>\n",
       "      <td>netbootxyz</td>\n",
       "      <td>netboot.xyz</td>\n",
       "      <td>3400</td>\n",
       "      <td>https://github.com/netbootxyz/netboot.xyz</td>\n",
       "    </tr>\n",
       "    <tr>\n",
       "      <th>18</th>\n",
       "      <td>ansible-community</td>\n",
       "      <td>molecule</td>\n",
       "      <td>3400</td>\n",
       "      <td>https://github.com/ansible-community/molecule</td>\n",
       "    </tr>\n",
       "    <tr>\n",
       "      <th>19</th>\n",
       "      <td>werf</td>\n",
       "      <td>werf</td>\n",
       "      <td>3300</td>\n",
       "      <td>https://github.com/werf/werf</td>\n",
       "    </tr>\n",
       "    <tr>\n",
       "      <th>20</th>\n",
       "      <td>opendevops-cn</td>\n",
       "      <td>opendevops</td>\n",
       "      <td>3200</td>\n",
       "      <td>https://github.com/opendevops-cn/opendevops</td>\n",
       "    </tr>\n",
       "    <tr>\n",
       "      <th>21</th>\n",
       "      <td>litmuschaos</td>\n",
       "      <td>litmus</td>\n",
       "      <td>3100</td>\n",
       "      <td>https://github.com/litmuschaos/litmus</td>\n",
       "    </tr>\n",
       "    <tr>\n",
       "      <th>22</th>\n",
       "      <td>welliamcao</td>\n",
       "      <td>OpsManage</td>\n",
       "      <td>3000</td>\n",
       "      <td>https://github.com/welliamcao/OpsManage</td>\n",
       "    </tr>\n",
       "    <tr>\n",
       "      <th>23</th>\n",
       "      <td>ansible</td>\n",
       "      <td>ansible-lint</td>\n",
       "      <td>2800</td>\n",
       "      <td>https://github.com/ansible/ansible-lint</td>\n",
       "    </tr>\n",
       "    <tr>\n",
       "      <th>24</th>\n",
       "      <td>dev-sec</td>\n",
       "      <td>ansible-collection-hardening</td>\n",
       "      <td>2800</td>\n",
       "      <td>https://github.com/dev-sec/ansible-collection-...</td>\n",
       "    </tr>\n",
       "    <tr>\n",
       "      <th>25</th>\n",
       "      <td>alixaxel</td>\n",
       "      <td>chrome-aws-lambda</td>\n",
       "      <td>2700</td>\n",
       "      <td>https://github.com/alixaxel/chrome-aws-lambda</td>\n",
       "    </tr>\n",
       "    <tr>\n",
       "      <th>26</th>\n",
       "      <td>roots</td>\n",
       "      <td>trellis</td>\n",
       "      <td>2300</td>\n",
       "      <td>https://github.com/roots/trellis</td>\n",
       "    </tr>\n",
       "    <tr>\n",
       "      <th>27</th>\n",
       "      <td>ansistrano</td>\n",
       "      <td>deploy</td>\n",
       "      <td>2200</td>\n",
       "      <td>https://github.com/ansistrano/deploy</td>\n",
       "    </tr>\n",
       "    <tr>\n",
       "      <th>28</th>\n",
       "      <td>fboender</td>\n",
       "      <td>ansible-cmdb</td>\n",
       "      <td>2100</td>\n",
       "      <td>https://github.com/fboender/ansible-cmdb</td>\n",
       "    </tr>\n",
       "    <tr>\n",
       "      <th>29</th>\n",
       "      <td>pytest-dev</td>\n",
       "      <td>pytest-testinfra</td>\n",
       "      <td>2100</td>\n",
       "      <td>https://github.com/pytest-dev/pytest-testinfra</td>\n",
       "    </tr>\n",
       "  </tbody>\n",
       "</table>\n",
       "</div>"
      ],
      "text/plain": [
       "             username                     repo_name  stars  \\\n",
       "0             ansible                       ansible  53900   \n",
       "1        bregman-arie              devops-exercises  27900   \n",
       "2         trailofbits                          algo  25800   \n",
       "3     StreisandEffect                     streisand  22800   \n",
       "4         MichaelCade                90DaysOfDevOps  15600   \n",
       "5     kubernetes-sigs                     kubespray  12600   \n",
       "6             ansible                           awx  11200   \n",
       "7             easzlab                       kubeasz   8300   \n",
       "8         geerlingguy            ansible-for-devops   6000   \n",
       "9            khuedoan                       homelab   5900   \n",
       "10      curlconverter                 curlconverter   5700   \n",
       "11  ansible-semaphore                     semaphore   5100   \n",
       "12            Tikam02                  DevOps-Guide   5000   \n",
       "13        geerlingguy              mac-dev-playbook   4700   \n",
       "14            rundeck                       rundeck   4600   \n",
       "15       KubeOperator                  KubeOperator   4400   \n",
       "16              clong                  DetectionLab   3700   \n",
       "17         netbootxyz                   netboot.xyz   3400   \n",
       "18  ansible-community                      molecule   3400   \n",
       "19               werf                          werf   3300   \n",
       "20      opendevops-cn                    opendevops   3200   \n",
       "21        litmuschaos                        litmus   3100   \n",
       "22         welliamcao                     OpsManage   3000   \n",
       "23            ansible                  ansible-lint   2800   \n",
       "24            dev-sec  ansible-collection-hardening   2800   \n",
       "25           alixaxel             chrome-aws-lambda   2700   \n",
       "26              roots                       trellis   2300   \n",
       "27         ansistrano                        deploy   2200   \n",
       "28           fboender                  ansible-cmdb   2100   \n",
       "29         pytest-dev              pytest-testinfra   2100   \n",
       "\n",
       "                                             repo_url  \n",
       "0                  https://github.com/ansible/ansible  \n",
       "1    https://github.com/bregman-arie/devops-exercises  \n",
       "2                 https://github.com/trailofbits/algo  \n",
       "3        https://github.com/StreisandEffect/streisand  \n",
       "4       https://github.com/MichaelCade/90DaysOfDevOps  \n",
       "5        https://github.com/kubernetes-sigs/kubespray  \n",
       "6                      https://github.com/ansible/awx  \n",
       "7                  https://github.com/easzlab/kubeasz  \n",
       "8   https://github.com/geerlingguy/ansible-for-devops  \n",
       "9                 https://github.com/khuedoan/homelab  \n",
       "10     https://github.com/curlconverter/curlconverter  \n",
       "11     https://github.com/ansible-semaphore/semaphore  \n",
       "12            https://github.com/Tikam02/DevOps-Guide  \n",
       "13    https://github.com/geerlingguy/mac-dev-playbook  \n",
       "14                 https://github.com/rundeck/rundeck  \n",
       "15       https://github.com/KubeOperator/KubeOperator  \n",
       "16              https://github.com/clong/DetectionLab  \n",
       "17          https://github.com/netbootxyz/netboot.xyz  \n",
       "18      https://github.com/ansible-community/molecule  \n",
       "19                       https://github.com/werf/werf  \n",
       "20        https://github.com/opendevops-cn/opendevops  \n",
       "21              https://github.com/litmuschaos/litmus  \n",
       "22            https://github.com/welliamcao/OpsManage  \n",
       "23            https://github.com/ansible/ansible-lint  \n",
       "24  https://github.com/dev-sec/ansible-collection-...  \n",
       "25      https://github.com/alixaxel/chrome-aws-lambda  \n",
       "26                   https://github.com/roots/trellis  \n",
       "27               https://github.com/ansistrano/deploy  \n",
       "28           https://github.com/fboender/ansible-cmdb  \n",
       "29     https://github.com/pytest-dev/pytest-testinfra  "
      ]
     },
     "execution_count": 75,
     "metadata": {},
     "output_type": "execute_result"
    }
   ],
   "source": [
    "get_topic_repos(get_topic_page(topic_urls[6]))"
   ]
  },
  {
   "cell_type": "code",
   "execution_count": null,
   "metadata": {},
   "outputs": [],
   "source": []
  },
  {
   "cell_type": "markdown",
   "metadata": {},
   "source": [
    "\n",
    "\n",
    "Write a single function to:\n",
    "\n",
    "1. get the list of topics from the github topics page\n",
    "2. get the list of top repos from the individual topic pages\n",
    "3. For each topic, create a CSV of the top repos fro the topic"
   ]
  },
  {
   "cell_type": "code",
   "execution_count": 74,
   "metadata": {},
   "outputs": [],
   "source": [
    "def scrape_topics_list_page():\n",
    "    \"\"\"\"\n",
    "    To Scrape the entire list of topics which spans over 6 pages.\n",
    "    Returns a dataframe that consists of Topic name, Topic Description and Topic URL.\n",
    "    \"\"\"\n",
    "    all_page_contents = ''\n",
    "    topics_list_page_url = 'https://github.com/topics?page='\n",
    "    for i in range(1,7):\n",
    "        response = requests.get(topics_list_page_url+str(i))\n",
    "        #check successful response\n",
    "        if response.status_code != 200:\n",
    "            raise Exception('Failed to load page{}'.format(topic_url))\n",
    "        single_page_contents = response.text\n",
    "        all_page_contents += single_page_contents\n",
    "    #parse using beautiful soup\n",
    "    doc = BeautifulSoup(all_page_contents, 'html.parser')\n",
    "    topics_dict = {'title': get_topic_titles(doc),\n",
    "        'description': get_topic_descs(doc),\n",
    "        'url': get_topic_urls(doc)    \n",
    "    }\n",
    "    return pd.DataFrame(topics_dict)"
   ]
  },
  {
   "cell_type": "code",
   "execution_count": 57,
   "metadata": {},
   "outputs": [],
   "source": [
    "def get_topic_titles(doc):\n",
    "    topic_title_class = 'f3 lh-condensed mb-0 mt-1 Link--primary'\n",
    "    topic_title_tags = doc.find_all('p', {'class': topic_title_class})\n",
    "    topic_titles = []\n",
    "    for tag in topic_title_tags:\n",
    "        topic_titles.append(tag.text)\n",
    "    return topic_titles\n",
    "\n",
    "def get_topic_descs(doc):\n",
    "    topic_desc_class = 'f5 color-fg-muted mb-0 mt-1'\n",
    "    topic_desc_tags = doc.find_all('p', {'class': topic_desc_class})\n",
    "    topic_descs = []\n",
    "    for tag in topic_desc_tags:\n",
    "        topic_descs.append(tag.text.strip())\n",
    "    return topic_descs\n",
    "\n",
    "def get_topic_urls(doc):\n",
    "    topic_url_class = 'no-underline flex-1 d-flex flex-column'\n",
    "    topic_url_tags = doc.find_all('a', {'class': topic_url_class})\n",
    "    topic_urls = []\n",
    "    base_url = \"https://github.com\"\n",
    "    for tag in topic_url_tags:\n",
    "        topic_urls.append(base_url + tag['href'])\n",
    "    return topic_urls"
   ]
  },
  {
   "cell_type": "code",
   "execution_count": null,
   "metadata": {},
   "outputs": [],
   "source": []
  },
  {
   "cell_type": "code",
   "execution_count": null,
   "metadata": {},
   "outputs": [],
   "source": []
  },
  {
   "cell_type": "code",
   "execution_count": 2,
   "metadata": {},
   "outputs": [],
   "source": [
    "def scrape_topic_repos():\n",
    "    \"\"\" Scrape top repositories of each topic.\n",
    "    \"\"\"\n",
    "    print('Scraping Topics List')\n",
    "    topics_df = scrape_topics_list_page()\n",
    "    \n",
    "    os.makedirs('data', exist_ok=True)  #folder name -> data\n",
    "    \n",
    "    for index, row in topics_df.iterrows():\n",
    "        print('Scraping top repos for \"{}\"'.format(row['title']))\n",
    "        scrape_each_topic_page(row['url'], 'data/{}.csv'.format(row['title']))"
   ]
  },
  {
   "cell_type": "code",
   "execution_count": 86,
   "metadata": {
    "scrolled": false
   },
   "outputs": [
    {
     "name": "stdout",
     "output_type": "stream",
     "text": [
      "Scraping Topics List\n",
      "Scraping top repos for \"3D\"\n",
      "The file data/3D.csv already exists. Skipping...\n",
      "Scraping top repos for \"Ajax\"\n",
      "The file data/Ajax.csv already exists. Skipping...\n",
      "Scraping top repos for \"Algorithm\"\n",
      "The file data/Algorithm.csv already exists. Skipping...\n",
      "Scraping top repos for \"Amp\"\n",
      "The file data/Amp.csv already exists. Skipping...\n",
      "Scraping top repos for \"Android\"\n",
      "The file data/Android.csv already exists. Skipping...\n",
      "Scraping top repos for \"Angular\"\n",
      "The file data/Angular.csv already exists. Skipping...\n",
      "Scraping top repos for \"Ansible\"\n",
      "The file data/Ansible.csv already exists. Skipping...\n",
      "Scraping top repos for \"API\"\n",
      "The file data/API.csv already exists. Skipping...\n",
      "Scraping top repos for \"Arduino\"\n",
      "The file data/Arduino.csv already exists. Skipping...\n",
      "Scraping top repos for \"ASP.NET\"\n",
      "The file data/ASP.NET.csv already exists. Skipping...\n",
      "Scraping top repos for \"Atom\"\n",
      "The file data/Atom.csv already exists. Skipping...\n",
      "Scraping top repos for \"Awesome Lists\"\n",
      "The file data/Awesome Lists.csv already exists. Skipping...\n",
      "Scraping top repos for \"Amazon Web Services\"\n",
      "The file data/Amazon Web Services.csv already exists. Skipping...\n",
      "Scraping top repos for \"Azure\"\n",
      "The file data/Azure.csv already exists. Skipping...\n",
      "Scraping top repos for \"Babel\"\n",
      "The file data/Babel.csv already exists. Skipping...\n",
      "Scraping top repos for \"Bash\"\n",
      "The file data/Bash.csv already exists. Skipping...\n",
      "Scraping top repos for \"Bitcoin\"\n",
      "The file data/Bitcoin.csv already exists. Skipping...\n",
      "Scraping top repos for \"Bootstrap\"\n",
      "The file data/Bootstrap.csv already exists. Skipping...\n",
      "Scraping top repos for \"Bot\"\n",
      "The file data/Bot.csv already exists. Skipping...\n",
      "Scraping top repos for \"C\"\n",
      "The file data/C.csv already exists. Skipping...\n",
      "Scraping top repos for \"Chrome\"\n",
      "The file data/Chrome.csv already exists. Skipping...\n",
      "Scraping top repos for \"Chrome extension\"\n",
      "The file data/Chrome extension.csv already exists. Skipping...\n",
      "Scraping top repos for \"Command line interface\"\n",
      "The file data/Command line interface.csv already exists. Skipping...\n",
      "Scraping top repos for \"Clojure\"\n",
      "The file data/Clojure.csv already exists. Skipping...\n",
      "Scraping top repos for \"Code quality\"\n",
      "The file data/Code quality.csv already exists. Skipping...\n",
      "Scraping top repos for \"Code review\"\n",
      "The file data/Code review.csv already exists. Skipping...\n",
      "Scraping top repos for \"Compiler\"\n",
      "The file data/Compiler.csv already exists. Skipping...\n",
      "Scraping top repos for \"Continuous integration\"\n",
      "The file data/Continuous integration.csv already exists. Skipping...\n",
      "Scraping top repos for \"COVID-19\"\n",
      "The file data/COVID-19.csv already exists. Skipping...\n",
      "Scraping top repos for \"C++\"\n",
      "The file data/C++.csv already exists. Skipping...\n",
      "Scraping top repos for \"Cryptocurrency\"\n",
      "The file data/Cryptocurrency.csv already exists. Skipping...\n",
      "Scraping top repos for \"Crystal\"\n",
      "The file data/Crystal.csv already exists. Skipping...\n",
      "Scraping top repos for \"C#\"\n",
      "The file data/C#.csv already exists. Skipping...\n",
      "Scraping top repos for \"CSS\"\n",
      "The file data/CSS.csv already exists. Skipping...\n",
      "Scraping top repos for \"Data structures\"\n",
      "The file data/Data structures.csv already exists. Skipping...\n",
      "Scraping top repos for \"Data visualization\"\n",
      "The file data/Data visualization.csv already exists. Skipping...\n",
      "Scraping top repos for \"Database\"\n",
      "The file data/Database.csv already exists. Skipping...\n",
      "Scraping top repos for \"Deep learning\"\n",
      "The file data/Deep learning.csv already exists. Skipping...\n",
      "Scraping top repos for \"Dependency management\"\n",
      "The file data/Dependency management.csv already exists. Skipping...\n",
      "Scraping top repos for \"Deployment\"\n",
      "The file data/Deployment.csv already exists. Skipping...\n",
      "Scraping top repos for \"Django\"\n",
      "The file data/Django.csv already exists. Skipping...\n",
      "Scraping top repos for \"Docker\"\n",
      "The file data/Docker.csv already exists. Skipping...\n",
      "Scraping top repos for \"Documentation\"\n",
      "The file data/Documentation.csv already exists. Skipping...\n",
      "Scraping top repos for \".NET\"\n",
      "The file data/.NET.csv already exists. Skipping...\n",
      "Scraping top repos for \"Electron\"\n",
      "The file data/Electron.csv already exists. Skipping...\n",
      "Scraping top repos for \"Elixir\"\n",
      "The file data/Elixir.csv already exists. Skipping...\n",
      "Scraping top repos for \"Emacs\"\n",
      "The file data/Emacs.csv already exists. Skipping...\n",
      "Scraping top repos for \"Ember\"\n",
      "The file data/Ember.csv already exists. Skipping...\n",
      "Scraping top repos for \"Emoji\"\n",
      "The file data/Emoji.csv already exists. Skipping...\n",
      "Scraping top repos for \"Emulator\"\n",
      "The file data/Emulator.csv already exists. Skipping...\n",
      "Scraping top repos for \"ESLint\"\n",
      "The file data/ESLint.csv already exists. Skipping...\n",
      "Scraping top repos for \"Ethereum\"\n",
      "The file data/Ethereum.csv already exists. Skipping...\n",
      "Scraping top repos for \"Express\"\n",
      "The file data/Express.csv already exists. Skipping...\n",
      "Scraping top repos for \"Firebase\"\n",
      "The file data/Firebase.csv already exists. Skipping...\n",
      "Scraping top repos for \"Firefox\"\n",
      "The file data/Firefox.csv already exists. Skipping...\n",
      "Scraping top repos for \"Flask\"\n",
      "The file data/Flask.csv already exists. Skipping...\n",
      "Scraping top repos for \"Font\"\n",
      "The file data/Font.csv already exists. Skipping...\n",
      "Scraping top repos for \"Framework\"\n",
      "The file data/Framework.csv already exists. Skipping...\n",
      "Scraping top repos for \"Front end\"\n",
      "The file data/Front end.csv already exists. Skipping...\n",
      "Scraping top repos for \"Game engine\"\n",
      "The file data/Game engine.csv already exists. Skipping...\n",
      "Scraping top repos for \"Git\"\n",
      "The file data/Git.csv already exists. Skipping...\n",
      "Scraping top repos for \"GitHub API\"\n",
      "The file data/GitHub API.csv already exists. Skipping...\n",
      "Scraping top repos for \"Go\"\n",
      "The file data/Go.csv already exists. Skipping...\n",
      "Scraping top repos for \"Google\"\n",
      "The file data/Google.csv already exists. Skipping...\n",
      "Scraping top repos for \"Gradle\"\n",
      "The file data/Gradle.csv already exists. Skipping...\n",
      "Scraping top repos for \"GraphQL\"\n",
      "The file data/GraphQL.csv already exists. Skipping...\n",
      "Scraping top repos for \"Gulp\"\n",
      "The file data/Gulp.csv already exists. Skipping...\n",
      "Scraping top repos for \"Hacktoberfest\"\n",
      "The file data/Hacktoberfest.csv already exists. Skipping...\n",
      "Scraping top repos for \"Haskell\"\n",
      "The file data/Haskell.csv already exists. Skipping...\n",
      "Scraping top repos for \"Homebrew\"\n",
      "The file data/Homebrew.csv already exists. Skipping...\n",
      "Scraping top repos for \"Homebridge\"\n",
      "The file data/Homebridge.csv already exists. Skipping...\n",
      "Scraping top repos for \"HTML\"\n",
      "The file data/HTML.csv already exists. Skipping...\n",
      "Scraping top repos for \"HTTP\"\n",
      "The file data/HTTP.csv already exists. Skipping...\n",
      "Scraping top repos for \"Icon font\"\n",
      "The file data/Icon font.csv already exists. Skipping...\n",
      "Scraping top repos for \"iOS\"\n",
      "The file data/iOS.csv already exists. Skipping...\n",
      "Scraping top repos for \"IPFS\"\n",
      "The file data/IPFS.csv already exists. Skipping...\n",
      "Scraping top repos for \"Java\"\n",
      "The file data/Java.csv already exists. Skipping...\n",
      "Scraping top repos for \"JavaScript\"\n",
      "The file data/JavaScript.csv already exists. Skipping...\n",
      "Scraping top repos for \"Jekyll\"\n",
      "The file data/Jekyll.csv already exists. Skipping...\n",
      "Scraping top repos for \"jQuery\"\n",
      "The file data/jQuery.csv already exists. Skipping...\n",
      "Scraping top repos for \"JSON\"\n",
      "The file data/JSON.csv already exists. Skipping...\n",
      "Scraping top repos for \"The Julia Language\"\n",
      "The file data/The Julia Language.csv already exists. Skipping...\n",
      "Scraping top repos for \"Jupyter Notebook\"\n",
      "The file data/Jupyter Notebook.csv already exists. Skipping...\n",
      "Scraping top repos for \"Koa\"\n",
      "The file data/Koa.csv already exists. Skipping...\n",
      "Scraping top repos for \"Kotlin\"\n",
      "The file data/Kotlin.csv already exists. Skipping...\n",
      "Scraping top repos for \"Kubernetes\"\n",
      "The file data/Kubernetes.csv already exists. Skipping...\n",
      "Scraping top repos for \"Laravel\"\n",
      "The file data/Laravel.csv already exists. Skipping...\n",
      "Scraping top repos for \"LaTeX\"\n",
      "The file data/LaTeX.csv already exists. Skipping...\n",
      "Scraping top repos for \"Library\"\n",
      "The file data/Library.csv already exists. Skipping...\n",
      "Scraping top repos for \"Linux\"\n",
      "The file data/Linux.csv already exists. Skipping...\n",
      "Scraping top repos for \"Localization\"\n",
      "The file data/Localization.csv already exists. Skipping...\n",
      "Scraping top repos for \"Lua\"\n",
      "The file data/Lua.csv already exists. Skipping...\n",
      "Scraping top repos for \"Machine learning\"\n",
      "The file data/Machine learning.csv already exists. Skipping...\n",
      "Scraping top repos for \"macOS\"\n",
      "The file data/macOS.csv already exists. Skipping...\n",
      "Scraping top repos for \"Markdown\"\n",
      "The file data/Markdown.csv already exists. Skipping...\n",
      "Scraping top repos for \"Mastodon\"\n",
      "The file data/Mastodon.csv already exists. Skipping...\n",
      "Scraping top repos for \"Material design\"\n",
      "The file data/Material design.csv already exists. Skipping...\n",
      "Scraping top repos for \"MATLAB\"\n",
      "The file data/MATLAB.csv already exists. Skipping...\n",
      "Scraping top repos for \"Maven\"\n",
      "The file data/Maven.csv already exists. Skipping...\n",
      "Scraping top repos for \"Minecraft\"\n",
      "The file data/Minecraft.csv already exists. Skipping...\n",
      "Scraping top repos for \"Mobile\"\n",
      "The file data/Mobile.csv already exists. Skipping...\n",
      "Scraping top repos for \"Monero\"\n",
      "The file data/Monero.csv already exists. Skipping...\n",
      "Scraping top repos for \"MongoDB\"\n",
      "The file data/MongoDB.csv already exists. Skipping...\n",
      "Scraping top repos for \"Mongoose\"\n",
      "The file data/Mongoose.csv already exists. Skipping...\n",
      "Scraping top repos for \"Monitoring\"\n",
      "The file data/Monitoring.csv already exists. Skipping...\n",
      "Scraping top repos for \"MvvmCross\"\n",
      "The file data/MvvmCross.csv already exists. Skipping...\n",
      "Scraping top repos for \"MySQL\"\n",
      "The file data/MySQL.csv already exists. Skipping...\n",
      "Scraping top repos for \"NativeScript\"\n",
      "The file data/NativeScript.csv already exists. Skipping...\n",
      "Scraping top repos for \"Nim\"\n",
      "The file data/Nim.csv already exists. Skipping...\n",
      "Scraping top repos for \"Natural language processing\"\n",
      "The file data/Natural language processing.csv already exists. Skipping...\n",
      "Scraping top repos for \"Node.js\"\n",
      "The file data/Node.js.csv already exists. Skipping...\n",
      "Scraping top repos for \"NoSQL\"\n",
      "The file data/NoSQL.csv already exists. Skipping...\n",
      "Scraping top repos for \"npm\"\n",
      "The file data/npm.csv already exists. Skipping...\n",
      "Scraping top repos for \"Objective-C\"\n",
      "The file data/Objective-C.csv already exists. Skipping...\n",
      "Scraping top repos for \"OpenGL\"\n",
      "The file data/OpenGL.csv already exists. Skipping...\n",
      "Scraping top repos for \"Operating system\"\n",
      "The file data/Operating system.csv already exists. Skipping...\n",
      "Scraping top repos for \"P2P\"\n",
      "The file data/P2P.csv already exists. Skipping...\n",
      "Scraping top repos for \"Package manager\"\n",
      "The file data/Package manager.csv already exists. Skipping...\n",
      "Scraping top repos for \"Parsing\"\n",
      "The file data/Parsing.csv already exists. Skipping...\n",
      "Scraping top repos for \"Perl\"\n",
      "The file data/Perl.csv already exists. Skipping...\n",
      "Scraping top repos for \"Phaser\"\n",
      "The file data/Phaser.csv already exists. Skipping...\n",
      "Scraping top repos for \"PHP\"\n",
      "The file data/PHP.csv already exists. Skipping...\n",
      "Scraping top repos for \"PICO-8\"\n",
      "The file data/PICO-8.csv already exists. Skipping...\n",
      "Scraping top repos for \"Pixel Art\"\n",
      "The file data/Pixel Art.csv already exists. Skipping...\n",
      "Scraping top repos for \"PostgreSQL\"\n",
      "The file data/PostgreSQL.csv already exists. Skipping...\n",
      "Scraping top repos for \"Project management\"\n",
      "The file data/Project management.csv already exists. Skipping...\n",
      "Scraping top repos for \"Publishing\"\n",
      "The file data/Publishing.csv already exists. Skipping...\n",
      "Scraping top repos for \"PWA\"\n",
      "The file data/PWA.csv already exists. Skipping...\n",
      "Scraping top repos for \"Python\"\n",
      "The file data/Python.csv already exists. Skipping...\n",
      "Scraping top repos for \"Qt\"\n",
      "The file data/Qt.csv already exists. Skipping...\n",
      "Scraping top repos for \"R\"\n",
      "The file data/R.csv already exists. Skipping...\n",
      "Scraping top repos for \"Rails\"\n",
      "The file data/Rails.csv already exists. Skipping...\n",
      "Scraping top repos for \"Raspberry Pi\"\n",
      "The file data/Raspberry Pi.csv already exists. Skipping...\n",
      "Scraping top repos for \"Ratchet\"\n",
      "The file data/Ratchet.csv already exists. Skipping...\n",
      "Scraping top repos for \"React\"\n",
      "The file data/React.csv already exists. Skipping...\n",
      "Scraping top repos for \"React Native\"\n",
      "The file data/React Native.csv already exists. Skipping...\n",
      "Scraping top repos for \"ReactiveUI\"\n",
      "The file data/ReactiveUI.csv already exists. Skipping...\n",
      "Scraping top repos for \"Redux\"\n",
      "The file data/Redux.csv already exists. Skipping...\n",
      "Scraping top repos for \"REST API\"\n",
      "The file data/REST API.csv already exists. Skipping...\n",
      "Scraping top repos for \"Ruby\"\n",
      "The file data/Ruby.csv already exists. Skipping...\n",
      "Scraping top repos for \"Rust\"\n",
      "The file data/Rust.csv already exists. Skipping...\n",
      "Scraping top repos for \"Sass\"\n",
      "The file data/Sass.csv already exists. Skipping...\n",
      "Scraping top repos for \"Scala\"\n",
      "The file data/Scala.csv already exists. Skipping...\n",
      "Scraping top repos for \"scikit-learn\"\n",
      "The file data/scikit-learn.csv already exists. Skipping...\n",
      "Scraping top repos for \"Software-defined networking\"\n",
      "The file data/Software-defined networking.csv already exists. Skipping...\n",
      "Scraping top repos for \"Security\"\n",
      "The file data/Security.csv already exists. Skipping...\n",
      "Scraping top repos for \"Server\"\n",
      "The file data/Server.csv already exists. Skipping...\n",
      "Scraping top repos for \"Serverless\"\n",
      "The file data/Serverless.csv already exists. Skipping...\n",
      "Scraping top repos for \"Shell\"\n",
      "The file data/Shell.csv already exists. Skipping...\n",
      "Scraping top repos for \"Sketch\"\n",
      "The file data/Sketch.csv already exists. Skipping...\n",
      "Scraping top repos for \"SpaceVim\"\n",
      "The file data/SpaceVim.csv already exists. Skipping...\n",
      "Scraping top repos for \"Spring Boot\"\n",
      "The file data/Spring Boot.csv already exists. Skipping...\n",
      "Scraping top repos for \"SQL\"\n",
      "The file data/SQL.csv already exists. Skipping...\n",
      "Scraping top repos for \"Storybook\"\n",
      "The file data/Storybook.csv already exists. Skipping...\n",
      "Scraping top repos for \"Support\"\n",
      "The file data/Support.csv already exists. Skipping...\n",
      "Scraping top repos for \"Swift\"\n",
      "The file data/Swift.csv already exists. Skipping...\n",
      "Scraping top repos for \"Symfony\"\n",
      "The file data/Symfony.csv already exists. Skipping...\n",
      "Scraping top repos for \"Telegram\"\n",
      "The file data/Telegram.csv already exists. Skipping...\n",
      "Scraping top repos for \"Tensorflow\"\n",
      "The file data/Tensorflow.csv already exists. Skipping...\n",
      "Scraping top repos for \"Terminal\"\n",
      "The file data/Terminal.csv already exists. Skipping...\n",
      "Scraping top repos for \"Terraform\"\n",
      "The file data/Terraform.csv already exists. Skipping...\n",
      "Scraping top repos for \"Testing\"\n",
      "The file data/Testing.csv already exists. Skipping...\n",
      "Scraping top repos for \"Twitter\"\n",
      "The file data/Twitter.csv already exists. Skipping...\n",
      "Scraping top repos for \"TypeScript\"\n",
      "The file data/TypeScript.csv already exists. Skipping...\n",
      "Scraping top repos for \"Ubuntu\"\n",
      "The file data/Ubuntu.csv already exists. Skipping...\n",
      "Scraping top repos for \"Unity\"\n",
      "The file data/Unity.csv already exists. Skipping...\n",
      "Scraping top repos for \"Unreal Engine\"\n",
      "The file data/Unreal Engine.csv already exists. Skipping...\n",
      "Scraping top repos for \"Vagrant\"\n",
      "The file data/Vagrant.csv already exists. Skipping...\n",
      "Scraping top repos for \"Vim\"\n",
      "The file data/Vim.csv already exists. Skipping...\n",
      "Scraping top repos for \"Virtual reality\"\n",
      "The file data/Virtual reality.csv already exists. Skipping...\n",
      "Scraping top repos for \"Vue.js\"\n",
      "The file data/Vue.js.csv already exists. Skipping...\n",
      "Scraping top repos for \"Wagtail\"\n",
      "The file data/Wagtail.csv already exists. Skipping...\n",
      "Scraping top repos for \"Web Components\"\n"
     ]
    },
    {
     "name": "stdout",
     "output_type": "stream",
     "text": [
      "Scraping top repos for \"Web app\"\n",
      "Scraping top repos for \"Webpack\"\n",
      "Scraping top repos for \"Windows\"\n",
      "Scraping top repos for \"WordPlate\"\n",
      "Scraping top repos for \"WordPress\"\n",
      "Scraping top repos for \"Xamarin\"\n",
      "Scraping top repos for \"XML\"\n"
     ]
    }
   ],
   "source": [
    "scrape_topic_repos()"
   ]
  },
  {
   "cell_type": "code",
   "execution_count": null,
   "metadata": {},
   "outputs": [],
   "source": [
    "\n",
    "    "
   ]
  },
  {
   "cell_type": "code",
   "execution_count": 72,
   "metadata": {},
   "outputs": [],
   "source": []
  },
  {
   "cell_type": "code",
   "execution_count": null,
   "metadata": {},
   "outputs": [],
   "source": []
  },
  {
   "cell_type": "code",
   "execution_count": 60,
   "metadata": {},
   "outputs": [],
   "source": [
    "!pip install jovian --upgrade --quiet"
   ]
  },
  {
   "cell_type": "code",
   "execution_count": 61,
   "metadata": {},
   "outputs": [],
   "source": [
    "import jovian"
   ]
  },
  {
   "cell_type": "code",
   "execution_count": 1,
   "metadata": {},
   "outputs": [
    {
     "data": {
      "application/javascript": [
       "window.require && require([\"base/js/namespace\"],function(Jupyter){Jupyter.notebook.save_checkpoint()})"
      ],
      "text/plain": [
       "<IPython.core.display.Javascript object>"
      ]
     },
     "metadata": {},
     "output_type": "display_data"
    },
    {
     "name": "stdout",
     "output_type": "stream",
     "text": [
      "[jovian] Creating a new project \"lafirm/github-top-repo-scraping-raw\"\u001b[0m\n",
      "[jovian] Committed successfully! https://jovian.ai/lafirm/github-top-repo-scraping-raw\u001b[0m\n"
     ]
    },
    {
     "data": {
      "text/plain": [
       "'https://jovian.ai/lafirm/github-top-repo-scraping-raw'"
      ]
     },
     "execution_count": 1,
     "metadata": {},
     "output_type": "execute_result"
    }
   ],
   "source": [
    "jovian.commit(project='github-top-repos-scraping-raw')"
   ]
  },
  {
   "cell_type": "code",
   "execution_count": null,
   "metadata": {},
   "outputs": [],
   "source": []
  }
 ],
 "metadata": {
  "kernelspec": {
   "display_name": "Python 3 (ipykernel)",
   "language": "python",
   "name": "python3"
  },
  "language_info": {
   "codemirror_mode": {
    "name": "ipython",
    "version": 3
   },
   "file_extension": ".py",
   "mimetype": "text/x-python",
   "name": "python",
   "nbconvert_exporter": "python",
   "pygments_lexer": "ipython3",
   "version": "3.9.12"
  }
 },
 "nbformat": 4,
 "nbformat_minor": 2
}
